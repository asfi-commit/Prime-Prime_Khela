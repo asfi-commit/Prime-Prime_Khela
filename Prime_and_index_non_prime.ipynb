{
  "nbformat": 4,
  "nbformat_minor": 0,
  "metadata": {
    "colab": {
      "name": "Prime and index non-prime.ipynb",
      "provenance": [],
      "authorship_tag": "ABX9TyND/x+189LOmRiesGbnbzBJ",
      "include_colab_link": true
    },
    "kernelspec": {
      "name": "python3",
      "display_name": "Python 3"
    },
    "language_info": {
      "name": "python"
    }
  },
  "cells": [
    {
      "cell_type": "markdown",
      "metadata": {
        "id": "view-in-github",
        "colab_type": "text"
      },
      "source": [
        "<a href=\"https://colab.research.google.com/github/asfi-commit/Prime-Prime_Khela/blob/main/Prime_and_index_non_prime.ipynb\" target=\"_parent\"><img src=\"https://colab.research.google.com/assets/colab-badge.svg\" alt=\"Open In Colab\"/></a>"
      ]
    },
    {
      "cell_type": "code",
      "execution_count": 1,
      "metadata": {
        "id": "9mGFfkGw36ZI"
      },
      "outputs": [],
      "source": [
        "def isprime(num):\n",
        "    if num > 1:\n",
        "        for i in range(2, int(num/2)+1):\n",
        "  \n",
        "        # If num is divisible by any number between\n",
        "        # 2 and n / 2, it is not prime\n",
        "            if (num % i) == 0:\n",
        "                return 0\n",
        "        else:\n",
        "            return 1\n",
        "  \n",
        "    else:\n",
        "            return 0\n"
      ]
    },
    {
      "cell_type": "code",
      "source": [
        "i=0\n",
        "for x in range(1,10000):\n",
        "    if(isprime(x)):\n",
        "        f = open(\"Y.txt\", \"a\")\n",
        "        f.writelines(str(x)+\"\\n\")\n",
        "        f.close()\n",
        "        i=i+1\n",
        "        if(not(isprime(i))):\n",
        "            f1 = open(\"Z.txt\", \"a\")\n",
        "            f1.writelines(str(x)+\"\\n\")\n",
        "            f1.close()"
      ],
      "metadata": {
        "id": "opEUVJ2j4V0s"
      },
      "execution_count": 2,
      "outputs": []
    },
    {
      "cell_type": "code",
      "source": [
        ""
      ],
      "metadata": {
        "id": "zux2ylim-6rB"
      },
      "execution_count": null,
      "outputs": []
    }
  ]
}